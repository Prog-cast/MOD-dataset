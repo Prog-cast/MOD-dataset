{
  "cells": [
    {
      "cell_type": "code",
      "execution_count": null,
      "metadata": {
        "id": "N2xYriRRr2nd"
      },
      "outputs": [],
      "source": [
        "import numpy as np\n",
        "import pandas as pd\n",
        "import matplotlib.pyplot as plt\n",
        "import seaborn as sns"
      ]
    },
    {
      "cell_type": "code",
      "execution_count": null,
      "metadata": {
        "colab": {
          "base_uri": "https://localhost:8080/",
          "height": 273
        },
        "id": "yPzSubAPsGBU",
        "outputId": "f8fe6e44-d647-4101-fc1a-2ea354197698"
      },
      "outputs": [
        {
          "output_type": "execute_result",
          "data": {
            "text/plain": [
              "   ISS  NISS      PS14  Age  WBC [109/L]_T1  NEUT [109/L]_T1  \\\n",
              "0   11    11  97.21493   41           26.16            21.95   \n",
              "1    9    22  99.59795   22            8.28             4.21   \n",
              "2   14    17  99.10462   47            9.24             4.52   \n",
              "3    4    12  99.85114   38           11.54             6.37   \n",
              "4   24    34  87.32603   78           17.43            12.48   \n",
              "\n",
              "   LYMPH [109/L]_T1  MONO [109/L]_T1  IG [109/L]_T1  NEUT %_T1  ...  \\\n",
              "0              1.60             2.58           0.10       83.9  ...   \n",
              "1              3.53             0.33           0.04       50.9  ...   \n",
              "2              3.73             0.45           0.16       49.0  ...   \n",
              "3              4.18             0.65           0.09       55.2  ...   \n",
              "4              3.46             1.10           0.38       71.7  ...   \n",
              "\n",
              "   Eff_Mem_Cyto_T3  IL1-Ra_T3  IL-6_T3  IL-8_T3  IL-10_T3  G-CSF_T3  MCP-1_T3  \\\n",
              "0             78.0        NaN      NaN      NaN       NaN       NaN       NaN   \n",
              "1             33.0     237.32    75.04    66.47     59.20     88.73      2.89   \n",
              "2              NaN     179.18    34.76    58.45    171.43     84.37      0.01   \n",
              "3             38.0    1643.40  1353.66   193.49   2100.26    292.98    646.47   \n",
              "4             67.0        NaN      NaN      NaN       NaN       NaN       NaN   \n",
              "\n",
              "   TNF-A_T3  Cortisol (ng/ml)_T3  Label  \n",
              "0       NaN             180.6876      N  \n",
              "1     39.96             133.6386      Y  \n",
              "2     85.15             181.1892      N  \n",
              "3   1267.07             194.7159      N  \n",
              "4       NaN             259.6209      Y  \n",
              "\n",
              "[5 rows x 197 columns]"
            ],
            "text/html": [
              "\n",
              "  <div id=\"df-9e31259a-a3d9-49a6-8cce-4b3b8af866b4\" class=\"colab-df-container\">\n",
              "    <div>\n",
              "<style scoped>\n",
              "    .dataframe tbody tr th:only-of-type {\n",
              "        vertical-align: middle;\n",
              "    }\n",
              "\n",
              "    .dataframe tbody tr th {\n",
              "        vertical-align: top;\n",
              "    }\n",
              "\n",
              "    .dataframe thead th {\n",
              "        text-align: right;\n",
              "    }\n",
              "</style>\n",
              "<table border=\"1\" class=\"dataframe\">\n",
              "  <thead>\n",
              "    <tr style=\"text-align: right;\">\n",
              "      <th></th>\n",
              "      <th>ISS</th>\n",
              "      <th>NISS</th>\n",
              "      <th>PS14</th>\n",
              "      <th>Age</th>\n",
              "      <th>WBC [109/L]_T1</th>\n",
              "      <th>NEUT [109/L]_T1</th>\n",
              "      <th>LYMPH [109/L]_T1</th>\n",
              "      <th>MONO [109/L]_T1</th>\n",
              "      <th>IG [109/L]_T1</th>\n",
              "      <th>NEUT %_T1</th>\n",
              "      <th>...</th>\n",
              "      <th>Eff_Mem_Cyto_T3</th>\n",
              "      <th>IL1-Ra_T3</th>\n",
              "      <th>IL-6_T3</th>\n",
              "      <th>IL-8_T3</th>\n",
              "      <th>IL-10_T3</th>\n",
              "      <th>G-CSF_T3</th>\n",
              "      <th>MCP-1_T3</th>\n",
              "      <th>TNF-A_T3</th>\n",
              "      <th>Cortisol (ng/ml)_T3</th>\n",
              "      <th>Label</th>\n",
              "    </tr>\n",
              "  </thead>\n",
              "  <tbody>\n",
              "    <tr>\n",
              "      <th>0</th>\n",
              "      <td>11</td>\n",
              "      <td>11</td>\n",
              "      <td>97.21493</td>\n",
              "      <td>41</td>\n",
              "      <td>26.16</td>\n",
              "      <td>21.95</td>\n",
              "      <td>1.60</td>\n",
              "      <td>2.58</td>\n",
              "      <td>0.10</td>\n",
              "      <td>83.9</td>\n",
              "      <td>...</td>\n",
              "      <td>78.0</td>\n",
              "      <td>NaN</td>\n",
              "      <td>NaN</td>\n",
              "      <td>NaN</td>\n",
              "      <td>NaN</td>\n",
              "      <td>NaN</td>\n",
              "      <td>NaN</td>\n",
              "      <td>NaN</td>\n",
              "      <td>180.6876</td>\n",
              "      <td>N</td>\n",
              "    </tr>\n",
              "    <tr>\n",
              "      <th>1</th>\n",
              "      <td>9</td>\n",
              "      <td>22</td>\n",
              "      <td>99.59795</td>\n",
              "      <td>22</td>\n",
              "      <td>8.28</td>\n",
              "      <td>4.21</td>\n",
              "      <td>3.53</td>\n",
              "      <td>0.33</td>\n",
              "      <td>0.04</td>\n",
              "      <td>50.9</td>\n",
              "      <td>...</td>\n",
              "      <td>33.0</td>\n",
              "      <td>237.32</td>\n",
              "      <td>75.04</td>\n",
              "      <td>66.47</td>\n",
              "      <td>59.20</td>\n",
              "      <td>88.73</td>\n",
              "      <td>2.89</td>\n",
              "      <td>39.96</td>\n",
              "      <td>133.6386</td>\n",
              "      <td>Y</td>\n",
              "    </tr>\n",
              "    <tr>\n",
              "      <th>2</th>\n",
              "      <td>14</td>\n",
              "      <td>17</td>\n",
              "      <td>99.10462</td>\n",
              "      <td>47</td>\n",
              "      <td>9.24</td>\n",
              "      <td>4.52</td>\n",
              "      <td>3.73</td>\n",
              "      <td>0.45</td>\n",
              "      <td>0.16</td>\n",
              "      <td>49.0</td>\n",
              "      <td>...</td>\n",
              "      <td>NaN</td>\n",
              "      <td>179.18</td>\n",
              "      <td>34.76</td>\n",
              "      <td>58.45</td>\n",
              "      <td>171.43</td>\n",
              "      <td>84.37</td>\n",
              "      <td>0.01</td>\n",
              "      <td>85.15</td>\n",
              "      <td>181.1892</td>\n",
              "      <td>N</td>\n",
              "    </tr>\n",
              "    <tr>\n",
              "      <th>3</th>\n",
              "      <td>4</td>\n",
              "      <td>12</td>\n",
              "      <td>99.85114</td>\n",
              "      <td>38</td>\n",
              "      <td>11.54</td>\n",
              "      <td>6.37</td>\n",
              "      <td>4.18</td>\n",
              "      <td>0.65</td>\n",
              "      <td>0.09</td>\n",
              "      <td>55.2</td>\n",
              "      <td>...</td>\n",
              "      <td>38.0</td>\n",
              "      <td>1643.40</td>\n",
              "      <td>1353.66</td>\n",
              "      <td>193.49</td>\n",
              "      <td>2100.26</td>\n",
              "      <td>292.98</td>\n",
              "      <td>646.47</td>\n",
              "      <td>1267.07</td>\n",
              "      <td>194.7159</td>\n",
              "      <td>N</td>\n",
              "    </tr>\n",
              "    <tr>\n",
              "      <th>4</th>\n",
              "      <td>24</td>\n",
              "      <td>34</td>\n",
              "      <td>87.32603</td>\n",
              "      <td>78</td>\n",
              "      <td>17.43</td>\n",
              "      <td>12.48</td>\n",
              "      <td>3.46</td>\n",
              "      <td>1.10</td>\n",
              "      <td>0.38</td>\n",
              "      <td>71.7</td>\n",
              "      <td>...</td>\n",
              "      <td>67.0</td>\n",
              "      <td>NaN</td>\n",
              "      <td>NaN</td>\n",
              "      <td>NaN</td>\n",
              "      <td>NaN</td>\n",
              "      <td>NaN</td>\n",
              "      <td>NaN</td>\n",
              "      <td>NaN</td>\n",
              "      <td>259.6209</td>\n",
              "      <td>Y</td>\n",
              "    </tr>\n",
              "  </tbody>\n",
              "</table>\n",
              "<p>5 rows × 197 columns</p>\n",
              "</div>\n",
              "    <div class=\"colab-df-buttons\">\n",
              "\n",
              "  <div class=\"colab-df-container\">\n",
              "    <button class=\"colab-df-convert\" onclick=\"convertToInteractive('df-9e31259a-a3d9-49a6-8cce-4b3b8af866b4')\"\n",
              "            title=\"Convert this dataframe to an interactive table.\"\n",
              "            style=\"display:none;\">\n",
              "\n",
              "  <svg xmlns=\"http://www.w3.org/2000/svg\" height=\"24px\" viewBox=\"0 -960 960 960\">\n",
              "    <path d=\"M120-120v-720h720v720H120Zm60-500h600v-160H180v160Zm220 220h160v-160H400v160Zm0 220h160v-160H400v160ZM180-400h160v-160H180v160Zm440 0h160v-160H620v160ZM180-180h160v-160H180v160Zm440 0h160v-160H620v160Z\"/>\n",
              "  </svg>\n",
              "    </button>\n",
              "\n",
              "  <style>\n",
              "    .colab-df-container {\n",
              "      display:flex;\n",
              "      gap: 12px;\n",
              "    }\n",
              "\n",
              "    .colab-df-convert {\n",
              "      background-color: #E8F0FE;\n",
              "      border: none;\n",
              "      border-radius: 50%;\n",
              "      cursor: pointer;\n",
              "      display: none;\n",
              "      fill: #1967D2;\n",
              "      height: 32px;\n",
              "      padding: 0 0 0 0;\n",
              "      width: 32px;\n",
              "    }\n",
              "\n",
              "    .colab-df-convert:hover {\n",
              "      background-color: #E2EBFA;\n",
              "      box-shadow: 0px 1px 2px rgba(60, 64, 67, 0.3), 0px 1px 3px 1px rgba(60, 64, 67, 0.15);\n",
              "      fill: #174EA6;\n",
              "    }\n",
              "\n",
              "    .colab-df-buttons div {\n",
              "      margin-bottom: 4px;\n",
              "    }\n",
              "\n",
              "    [theme=dark] .colab-df-convert {\n",
              "      background-color: #3B4455;\n",
              "      fill: #D2E3FC;\n",
              "    }\n",
              "\n",
              "    [theme=dark] .colab-df-convert:hover {\n",
              "      background-color: #434B5C;\n",
              "      box-shadow: 0px 1px 3px 1px rgba(0, 0, 0, 0.15);\n",
              "      filter: drop-shadow(0px 1px 2px rgba(0, 0, 0, 0.3));\n",
              "      fill: #FFFFFF;\n",
              "    }\n",
              "  </style>\n",
              "\n",
              "    <script>\n",
              "      const buttonEl =\n",
              "        document.querySelector('#df-9e31259a-a3d9-49a6-8cce-4b3b8af866b4 button.colab-df-convert');\n",
              "      buttonEl.style.display =\n",
              "        google.colab.kernel.accessAllowed ? 'block' : 'none';\n",
              "\n",
              "      async function convertToInteractive(key) {\n",
              "        const element = document.querySelector('#df-9e31259a-a3d9-49a6-8cce-4b3b8af866b4');\n",
              "        const dataTable =\n",
              "          await google.colab.kernel.invokeFunction('convertToInteractive',\n",
              "                                                    [key], {});\n",
              "        if (!dataTable) return;\n",
              "\n",
              "        const docLinkHtml = 'Like what you see? Visit the ' +\n",
              "          '<a target=\"_blank\" href=https://colab.research.google.com/notebooks/data_table.ipynb>data table notebook</a>'\n",
              "          + ' to learn more about interactive tables.';\n",
              "        element.innerHTML = '';\n",
              "        dataTable['output_type'] = 'display_data';\n",
              "        await google.colab.output.renderOutput(dataTable, element);\n",
              "        const docLink = document.createElement('div');\n",
              "        docLink.innerHTML = docLinkHtml;\n",
              "        element.appendChild(docLink);\n",
              "      }\n",
              "    </script>\n",
              "  </div>\n",
              "\n",
              "\n",
              "<div id=\"df-2ed42191-2c09-4bb5-a53e-12d334c7442d\">\n",
              "  <button class=\"colab-df-quickchart\" onclick=\"quickchart('df-2ed42191-2c09-4bb5-a53e-12d334c7442d')\"\n",
              "            title=\"Suggest charts\"\n",
              "            style=\"display:none;\">\n",
              "\n",
              "<svg xmlns=\"http://www.w3.org/2000/svg\" height=\"24px\"viewBox=\"0 0 24 24\"\n",
              "     width=\"24px\">\n",
              "    <g>\n",
              "        <path d=\"M19 3H5c-1.1 0-2 .9-2 2v14c0 1.1.9 2 2 2h14c1.1 0 2-.9 2-2V5c0-1.1-.9-2-2-2zM9 17H7v-7h2v7zm4 0h-2V7h2v10zm4 0h-2v-4h2v4z\"/>\n",
              "    </g>\n",
              "</svg>\n",
              "  </button>\n",
              "\n",
              "<style>\n",
              "  .colab-df-quickchart {\n",
              "      --bg-color: #E8F0FE;\n",
              "      --fill-color: #1967D2;\n",
              "      --hover-bg-color: #E2EBFA;\n",
              "      --hover-fill-color: #174EA6;\n",
              "      --disabled-fill-color: #AAA;\n",
              "      --disabled-bg-color: #DDD;\n",
              "  }\n",
              "\n",
              "  [theme=dark] .colab-df-quickchart {\n",
              "      --bg-color: #3B4455;\n",
              "      --fill-color: #D2E3FC;\n",
              "      --hover-bg-color: #434B5C;\n",
              "      --hover-fill-color: #FFFFFF;\n",
              "      --disabled-bg-color: #3B4455;\n",
              "      --disabled-fill-color: #666;\n",
              "  }\n",
              "\n",
              "  .colab-df-quickchart {\n",
              "    background-color: var(--bg-color);\n",
              "    border: none;\n",
              "    border-radius: 50%;\n",
              "    cursor: pointer;\n",
              "    display: none;\n",
              "    fill: var(--fill-color);\n",
              "    height: 32px;\n",
              "    padding: 0;\n",
              "    width: 32px;\n",
              "  }\n",
              "\n",
              "  .colab-df-quickchart:hover {\n",
              "    background-color: var(--hover-bg-color);\n",
              "    box-shadow: 0 1px 2px rgba(60, 64, 67, 0.3), 0 1px 3px 1px rgba(60, 64, 67, 0.15);\n",
              "    fill: var(--button-hover-fill-color);\n",
              "  }\n",
              "\n",
              "  .colab-df-quickchart-complete:disabled,\n",
              "  .colab-df-quickchart-complete:disabled:hover {\n",
              "    background-color: var(--disabled-bg-color);\n",
              "    fill: var(--disabled-fill-color);\n",
              "    box-shadow: none;\n",
              "  }\n",
              "\n",
              "  .colab-df-spinner {\n",
              "    border: 2px solid var(--fill-color);\n",
              "    border-color: transparent;\n",
              "    border-bottom-color: var(--fill-color);\n",
              "    animation:\n",
              "      spin 1s steps(1) infinite;\n",
              "  }\n",
              "\n",
              "  @keyframes spin {\n",
              "    0% {\n",
              "      border-color: transparent;\n",
              "      border-bottom-color: var(--fill-color);\n",
              "      border-left-color: var(--fill-color);\n",
              "    }\n",
              "    20% {\n",
              "      border-color: transparent;\n",
              "      border-left-color: var(--fill-color);\n",
              "      border-top-color: var(--fill-color);\n",
              "    }\n",
              "    30% {\n",
              "      border-color: transparent;\n",
              "      border-left-color: var(--fill-color);\n",
              "      border-top-color: var(--fill-color);\n",
              "      border-right-color: var(--fill-color);\n",
              "    }\n",
              "    40% {\n",
              "      border-color: transparent;\n",
              "      border-right-color: var(--fill-color);\n",
              "      border-top-color: var(--fill-color);\n",
              "    }\n",
              "    60% {\n",
              "      border-color: transparent;\n",
              "      border-right-color: var(--fill-color);\n",
              "    }\n",
              "    80% {\n",
              "      border-color: transparent;\n",
              "      border-right-color: var(--fill-color);\n",
              "      border-bottom-color: var(--fill-color);\n",
              "    }\n",
              "    90% {\n",
              "      border-color: transparent;\n",
              "      border-bottom-color: var(--fill-color);\n",
              "    }\n",
              "  }\n",
              "</style>\n",
              "\n",
              "  <script>\n",
              "    async function quickchart(key) {\n",
              "      const quickchartButtonEl =\n",
              "        document.querySelector('#' + key + ' button');\n",
              "      quickchartButtonEl.disabled = true;  // To prevent multiple clicks.\n",
              "      quickchartButtonEl.classList.add('colab-df-spinner');\n",
              "      try {\n",
              "        const charts = await google.colab.kernel.invokeFunction(\n",
              "            'suggestCharts', [key], {});\n",
              "      } catch (error) {\n",
              "        console.error('Error during call to suggestCharts:', error);\n",
              "      }\n",
              "      quickchartButtonEl.classList.remove('colab-df-spinner');\n",
              "      quickchartButtonEl.classList.add('colab-df-quickchart-complete');\n",
              "    }\n",
              "    (() => {\n",
              "      let quickchartButtonEl =\n",
              "        document.querySelector('#df-2ed42191-2c09-4bb5-a53e-12d334c7442d button');\n",
              "      quickchartButtonEl.style.display =\n",
              "        google.colab.kernel.accessAllowed ? 'block' : 'none';\n",
              "    })();\n",
              "  </script>\n",
              "</div>\n",
              "    </div>\n",
              "  </div>\n"
            ]
          },
          "metadata": {},
          "execution_count": 7
        }
      ],
      "source": [
        "# Getting the data into a dataframe and taking a first look\n",
        "dataset = pd.read_csv('/content/dataset.csv')\n",
        "dataset.head()"
      ]
    },
    {
      "cell_type": "code",
      "execution_count": null,
      "metadata": {
        "colab": {
          "base_uri": "https://localhost:8080/",
          "height": 431
        },
        "id": "QE_gynRpsPAN",
        "outputId": "587fd2ad-24ec-4d2d-b420-8806b033be16"
      },
      "outputs": [
        {
          "output_type": "execute_result",
          "data": {
            "text/plain": [
              "<Axes: >"
            ]
          },
          "metadata": {},
          "execution_count": 8
        },
        {
          "output_type": "display_data",
          "data": {
            "text/plain": [
              "<Figure size 640x480 with 1 Axes>"
            ],
            "image/png": "[encoded data removed]"
          },
          "metadata": {}
        }
      ],
      "source": [
        "sns.heatmap(dataset.isnull(), xticklabels = False, cbar = False, cmap = 'Blues')\n"
      ]
    },
    {
      "cell_type": "code",
      "execution_count": null,
      "metadata": {
        "id": "HQcHYW5FsViQ"
      },
      "outputs": [],
      "source": [
        "dataset.interpolate(method = \"linear\", limit = 5, inplace = True)"
      ]
    },
    {
      "cell_type": "code",
      "execution_count": null,
      "metadata": {
        "colab": {
          "base_uri": "https://localhost:8080/",
          "height": 431
        },
        "id": "9-9B7_bPwvhC",
        "outputId": "a9320f72-24f6-4a2d-d100-3c7f23823238"
      },
      "outputs": [
        {
          "output_type": "execute_result",
          "data": {
            "text/plain": [
              "<Axes: >"
            ]
          },
          "metadata": {},
          "execution_count": 10
        },
        {
          "output_type": "display_data",
          "data": {
            "text/plain": [
              "<Figure size 640x480 with 1 Axes>"
            ],
            "image/png": "[encoded data removed]"
          },
          "metadata": {}
        }
      ],
      "source": [
        "sns.heatmap(dataset.isnull(), xticklabels = False, cbar = False, cmap = 'Blues')"
      ]
    },
    {
      "cell_type": "code",
      "source": [
        "dataset.interpolate(method = \"linear\", limit = 5, inplace = True)"
      ],
      "metadata": {
        "id": "E-h9xT3aifOO"
      },
      "execution_count": null,
      "outputs": []
    },
    {
      "cell_type": "code",
      "source": [
        "sns.heatmap(dataset.isnull(), xticklabels = False, cbar = False, cmap = 'Blues')"
      ],
      "metadata": {
        "colab": {
          "base_uri": "https://localhost:8080/",
          "height": 431
        },
        "id": "OOye60P--sz8",
        "outputId": "20efd785-9f55-4755-99da-267f97eb1bf2"
      },
      "execution_count": null,
      "outputs": [
        {
          "output_type": "execute_result",
          "data": {
            "text/plain": [
              "<Axes: >"
            ]
          },
          "metadata": {},
          "execution_count": 12
        },
        {
          "output_type": "display_data",
          "data": {
            "text/plain": [
              "<Figure size 640x480 with 1 Axes>"
            ],
            "image/png": "[encoded data removed]"
          },
          "metadata": {}
        }
      ]
    },
    {
      "cell_type": "code",
      "source": [
        "dataset.corr()\n"
      ],
      "metadata": {
        "colab": {
          "base_uri": "https://localhost:8080/",
          "height": 532
        },
        "id": "5yR8NBda-vG1",
        "outputId": "a4dcdf1d-f5f7-40ac-a068-6a4f562ef103"
      },
      "execution_count": null,
      "outputs": [
        {
          "output_type": "stream",
          "name": "stderr",
          "text": [
            "<ipython-input-13-c187c74d1e71>:1: FutureWarning: The default value of numeric_only in DataFrame.corr is deprecated. In a future version, it will default to False. Select only valid columns or specify the value of numeric_only to silence this warning.\n",
            "  dataset.corr()\n"
          ]
        },
        {
          "output_type": "execute_result",
          "data": {
            "text/plain": [
              "                          ISS      NISS      PS14       Age  WBC [109/L]_T1  \\\n",
              "ISS                  1.000000  0.855675 -0.632592 -0.065244        0.143855   \n",
              "NISS                 0.855675  1.000000 -0.664651  0.021261       -0.006323   \n",
              "PS14                -0.632592 -0.664651  1.000000 -0.190936       -0.024382   \n",
              "Age                 -0.065244  0.021261 -0.190936  1.000000       -0.218165   \n",
              "WBC [109/L]_T1       0.143855 -0.006323 -0.024382 -0.218165        1.000000   \n",
              "...                       ...       ...       ...       ...             ...   \n",
              "IL-10_T3            -0.210735 -0.197461  0.109050  0.129217       -0.028492   \n",
              "G-CSF_T3             0.178040  0.084710 -0.017950 -0.013653        0.142977   \n",
              "MCP-1_T3             0.086637 -0.025465 -0.034688 -0.024252        0.256657   \n",
              "TNF-A_T3            -0.158937 -0.191560  0.052677 -0.008301        0.109663   \n",
              "Cortisol (ng/ml)_T3 -0.045731  0.042810 -0.165992  0.387383       -0.096557   \n",
              "\n",
              "                     NEUT [109/L]_T1  LYMPH [109/L]_T1  MONO [109/L]_T1  \\\n",
              "ISS                         0.166888          0.016227        -0.003453   \n",
              "NISS                        0.013729         -0.008749        -0.088828   \n",
              "PS14                       -0.073216          0.067170         0.061203   \n",
              "Age                        -0.225898         -0.051386        -0.085540   \n",
              "WBC [109/L]_T1              0.919162          0.396084         0.710690   \n",
              "...                              ...               ...              ...   \n",
              "IL-10_T3                   -0.003165         -0.071692        -0.026453   \n",
              "G-CSF_T3                    0.084691          0.177464         0.142719   \n",
              "MCP-1_T3                    0.229155          0.165344         0.154155   \n",
              "TNF-A_T3                    0.127343         -0.005315         0.103891   \n",
              "Cortisol (ng/ml)_T3        -0.154166          0.087827         0.021288   \n",
              "\n",
              "                     IG [109/L]_T1  NEUT %_T1  ...  Central_Mem_Cyto_T3  \\\n",
              "ISS                       0.183326   0.145350  ...            -0.172194   \n",
              "NISS                      0.056353   0.075052  ...            -0.174210   \n",
              "PS14                     -0.145410  -0.167183  ...            -0.011355   \n",
              "Age                      -0.202138  -0.111746  ...             0.220223   \n",
              "WBC [109/L]_T1            0.549498   0.470019  ...             0.131395   \n",
              "...                            ...        ...  ...                  ...   \n",
              "IL-10_T3                 -0.031619   0.054369  ...             0.067519   \n",
              "G-CSF_T3                  0.050171  -0.034146  ...            -0.085792   \n",
              "MCP-1_T3                  0.232530   0.071130  ...            -0.101677   \n",
              "TNF-A_T3                  0.122127   0.113018  ...             0.012499   \n",
              "Cortisol (ng/ml)_T3       0.079084  -0.167445  ...             0.045807   \n",
              "\n",
              "                     Eff_Mem_Cyto_T3  IL1-Ra_T3   IL-6_T3   IL-8_T3  IL-10_T3  \\\n",
              "ISS                         0.020874   0.153687  0.223056  0.167675 -0.210735   \n",
              "NISS                        0.165386   0.042004  0.068507  0.112227 -0.197461   \n",
              "PS14                       -0.013946  -0.106031  0.067246 -0.220096  0.109050   \n",
              "Age                         0.128680  -0.082518 -0.014854 -0.085558  0.129217   \n",
              "WBC [109/L]_T1              0.005670   0.237682  0.239431  0.123390 -0.028492   \n",
              "...                              ...        ...       ...       ...       ...   \n",
              "IL-10_T3                   -0.104137   0.338038  0.281647  0.182422  1.000000   \n",
              "G-CSF_T3                    0.356527   0.178337  0.713808  0.196154  0.039558   \n",
              "MCP-1_T3                    0.024539   0.179208  0.474126  0.117602  0.321025   \n",
              "TNF-A_T3                   -0.120328   0.258113  0.224110  0.141039  0.701654   \n",
              "Cortisol (ng/ml)_T3        -0.235505   0.221938  0.028118  0.219510  0.136078   \n",
              "\n",
              "                     G-CSF_T3  MCP-1_T3  TNF-A_T3  Cortisol (ng/ml)_T3  \n",
              "ISS                  0.178040  0.086637 -0.158937            -0.045731  \n",
              "NISS                 0.084710 -0.025465 -0.191560             0.042810  \n",
              "PS14                -0.017950 -0.034688  0.052677            -0.165992  \n",
              "Age                 -0.013653 -0.024252 -0.008301             0.387383  \n",
              "WBC [109/L]_T1       0.142977  0.256657  0.109663            -0.096557  \n",
              "...                       ...       ...       ...                  ...  \n",
              "IL-10_T3             0.039558  0.321025  0.701654             0.136078  \n",
              "G-CSF_T3             1.000000  0.299583  0.062959             0.000144  \n",
              "MCP-1_T3             0.299583  1.000000  0.771038             0.044176  \n",
              "TNF-A_T3             0.062959  0.771038  1.000000             0.080013  \n",
              "Cortisol (ng/ml)_T3  0.000144  0.044176  0.080013             1.000000  \n",
              "\n",
              "[196 rows x 196 columns]"
            ],
            "text/html": [
              "\n",
              "  <div id=\"df-27247805-3496-46b0-b578-4bf8bcd94aab\" class=\"colab-df-container\">\n",
              "    <div>\n",
              "<style scoped>\n",
              "    .dataframe tbody tr th:only-of-type {\n",
              "        vertical-align: middle;\n",
              "    }\n",
              "\n",
              "    .dataframe tbody tr th {\n",
              "        vertical-align: top;\n",
              "    }\n",
              "\n",
              "    .dataframe thead th {\n",
              "        text-align: right;\n",
              "    }\n",
              "</style>\n",
              "<table border=\"1\" class=\"dataframe\">\n",
              "  <thead>\n",
              "    <tr style=\"text-align: right;\">\n",
              "      <th></th>\n",
              "      <th>ISS</th>\n",
              "      <th>NISS</th>\n",
              "      <th>PS14</th>\n",
              "      <th>Age</th>\n",
              "      <th>WBC [109/L]_T1</th>\n",
              "      <th>NEUT [109/L]_T1</th>\n",
              "      <th>LYMPH [109/L]_T1</th>\n",
              "      <th>MONO [109/L]_T1</th>\n",
              "      <th>IG [109/L]_T1</th>\n",
              "      <th>NEUT %_T1</th>\n",
              "      <th>...</th>\n",
              "      <th>Central_Mem_Cyto_T3</th>\n",
              "      <th>Eff_Mem_Cyto_T3</th>\n",
              "      <th>IL1-Ra_T3</th>\n",
              "      <th>IL-6_T3</th>\n",
              "      <th>IL-8_T3</th>\n",
              "      <th>IL-10_T3</th>\n",
              "      <th>G-CSF_T3</th>\n",
              "      <th>MCP-1_T3</th>\n",
              "      <th>TNF-A_T3</th>\n",
              "      <th>Cortisol (ng/ml)_T3</th>\n",
              "    </tr>\n",
              "  </thead>\n",
              "  <tbody>\n",
              "    <tr>\n",
              "      <th>ISS</th>\n",
              "      <td>1.000000</td>\n",
              "      <td>0.855675</td>\n",
              "      <td>-0.632592</td>\n",
              "      <td>-0.065244</td>\n",
              "      <td>0.143855</td>\n",
              "      <td>0.166888</td>\n",
              "      <td>0.016227</td>\n",
              "      <td>-0.003453</td>\n",
              "      <td>0.183326</td>\n",
              "      <td>0.145350</td>\n",
              "      <td>...</td>\n",
              "      <td>-0.172194</td>\n",
              "      <td>0.020874</td>\n",
              "      <td>0.153687</td>\n",
              "      <td>0.223056</td>\n",
              "      <td>0.167675</td>\n",
              "      <td>-0.210735</td>\n",
              "      <td>0.178040</td>\n",
              "      <td>0.086637</td>\n",
              "      <td>-0.158937</td>\n",
              "      <td>-0.045731</td>\n",
              "    </tr>\n",
              "    <tr>\n",
              "      <th>NISS</th>\n",
              "      <td>0.855675</td>\n",
              "      <td>1.000000</td>\n",
              "      <td>-0.664651</td>\n",
              "      <td>0.021261</td>\n",
              "      <td>-0.006323</td>\n",
              "      <td>0.013729</td>\n",
              "      <td>-0.008749</td>\n",
              "      <td>-0.088828</td>\n",
              "      <td>0.056353</td>\n",
              "      <td>0.075052</td>\n",
              "      <td>...</td>\n",
              "      <td>-0.174210</td>\n",
              "      <td>0.165386</td>\n",
              "      <td>0.042004</td>\n",
              "      <td>0.068507</td>\n",
              "      <td>0.112227</td>\n",
              "      <td>-0.197461</td>\n",
              "      <td>0.084710</td>\n",
              "      <td>-0.025465</td>\n",
              "      <td>-0.191560</td>\n",
              "      <td>0.042810</td>\n",
              "    </tr>\n",
              "    <tr>\n",
              "      <th>PS14</th>\n",
              "      <td>-0.632592</td>\n",
              "      <td>-0.664651</td>\n",
              "      <td>1.000000</td>\n",
              "      <td>-0.190936</td>\n",
              "      <td>-0.024382</td>\n",
              "      <td>-0.073216</td>\n",
              "      <td>0.067170</td>\n",
              "      <td>0.061203</td>\n",
              "      <td>-0.145410</td>\n",
              "      <td>-0.167183</td>\n",
              "      <td>...</td>\n",
              "      <td>-0.011355</td>\n",
              "      <td>-0.013946</td>\n",
              "      <td>-0.106031</td>\n",
              "      <td>0.067246</td>\n",
              "      <td>-0.220096</td>\n",
              "      <td>0.109050</td>\n",
              "      <td>-0.017950</td>\n",
              "      <td>-0.034688</td>\n",
              "      <td>0.052677</td>\n",
              "      <td>-0.165992</td>\n",
              "    </tr>\n",
              "    <tr>\n",
              "      <th>Age</th>\n",
              "      <td>-0.065244</td>\n",
              "      <td>0.021261</td>\n",
              "      <td>-0.190936</td>\n",
              "      <td>1.000000</td>\n",
              "      <td>-0.218165</td>\n",
              "      <td>-0.225898</td>\n",
              "      <td>-0.051386</td>\n",
              "      <td>-0.085540</td>\n",
              "      <td>-0.202138</td>\n",
              "      <td>-0.111746</td>\n",
              "      <td>...</td>\n",
              "      <td>0.220223</td>\n",
              "      <td>0.128680</td>\n",
              "      <td>-0.082518</td>\n",
              "      <td>-0.014854</td>\n",
              "      <td>-0.085558</td>\n",
              "      <td>0.129217</td>\n",
              "      <td>-0.013653</td>\n",
              "      <td>-0.024252</td>\n",
              "      <td>-0.008301</td>\n",
              "      <td>0.387383</td>\n",
              "    </tr>\n",
              "    <tr>\n",
              "      <th>WBC [109/L]_T1</th>\n",
              "      <td>0.143855</td>\n",
              "      <td>-0.006323</td>\n",
              "      <td>-0.024382</td>\n",
              "      <td>-0.218165</td>\n",
              "      <td>1.000000</td>\n",
              "      <td>0.919162</td>\n",
              "      <td>0.396084</td>\n",
              "      <td>0.710690</td>\n",
              "      <td>0.549498</td>\n",
              "      <td>0.470019</td>\n",
              "      <td>...</td>\n",
              "      <td>0.131395</td>\n",
              "      <td>0.005670</td>\n",
              "      <td>0.237682</td>\n",
              "      <td>0.239431</td>\n",
              "      <td>0.123390</td>\n",
              "      <td>-0.028492</td>\n",
              "      <td>0.142977</td>\n",
              "      <td>0.256657</td>\n",
              "      <td>0.109663</td>\n",
              "      <td>-0.096557</td>\n",
              "    </tr>\n",
              "    <tr>\n",
              "      <th>...</th>\n",
              "      <td>...</td>\n",
              "      <td>...</td>\n",
              "      <td>...</td>\n",
              "      <td>...</td>\n",
              "      <td>...</td>\n",
              "      <td>...</td>\n",
              "      <td>...</td>\n",
              "      <td>...</td>\n",
              "      <td>...</td>\n",
              "      <td>...</td>\n",
              "      <td>...</td>\n",
              "      <td>...</td>\n",
              "      <td>...</td>\n",
              "      <td>...</td>\n",
              "      <td>...</td>\n",
              "      <td>...</td>\n",
              "      <td>...</td>\n",
              "      <td>...</td>\n",
              "      <td>...</td>\n",
              "      <td>...</td>\n",
              "      <td>...</td>\n",
              "    </tr>\n",
              "    <tr>\n",
              "      <th>IL-10_T3</th>\n",
              "      <td>-0.210735</td>\n",
              "      <td>-0.197461</td>\n",
              "      <td>0.109050</td>\n",
              "      <td>0.129217</td>\n",
              "      <td>-0.028492</td>\n",
              "      <td>-0.003165</td>\n",
              "      <td>-0.071692</td>\n",
              "      <td>-0.026453</td>\n",
              "      <td>-0.031619</td>\n",
              "      <td>0.054369</td>\n",
              "      <td>...</td>\n",
              "      <td>0.067519</td>\n",
              "      <td>-0.104137</td>\n",
              "      <td>0.338038</td>\n",
              "      <td>0.281647</td>\n",
              "      <td>0.182422</td>\n",
              "      <td>1.000000</td>\n",
              "      <td>0.039558</td>\n",
              "      <td>0.321025</td>\n",
              "      <td>0.701654</td>\n",
              "      <td>0.136078</td>\n",
              "    </tr>\n",
              "    <tr>\n",
              "      <th>G-CSF_T3</th>\n",
              "      <td>0.178040</td>\n",
              "      <td>0.084710</td>\n",
              "      <td>-0.017950</td>\n",
              "      <td>-0.013653</td>\n",
              "      <td>0.142977</td>\n",
              "      <td>0.084691</td>\n",
              "      <td>0.177464</td>\n",
              "      <td>0.142719</td>\n",
              "      <td>0.050171</td>\n",
              "      <td>-0.034146</td>\n",
              "      <td>...</td>\n",
              "      <td>-0.085792</td>\n",
              "      <td>0.356527</td>\n",
              "      <td>0.178337</td>\n",
              "      <td>0.713808</td>\n",
              "      <td>0.196154</td>\n",
              "      <td>0.039558</td>\n",
              "      <td>1.000000</td>\n",
              "      <td>0.299583</td>\n",
              "      <td>0.062959</td>\n",
              "      <td>0.000144</td>\n",
              "    </tr>\n",
              "    <tr>\n",
              "      <th>MCP-1_T3</th>\n",
              "      <td>0.086637</td>\n",
              "      <td>-0.025465</td>\n",
              "      <td>-0.034688</td>\n",
              "      <td>-0.024252</td>\n",
              "      <td>0.256657</td>\n",
              "      <td>0.229155</td>\n",
              "      <td>0.165344</td>\n",
              "      <td>0.154155</td>\n",
              "      <td>0.232530</td>\n",
              "      <td>0.071130</td>\n",
              "      <td>...</td>\n",
              "      <td>-0.101677</td>\n",
              "      <td>0.024539</td>\n",
              "      <td>0.179208</td>\n",
              "      <td>0.474126</td>\n",
              "      <td>0.117602</td>\n",
              "      <td>0.321025</td>\n",
              "      <td>0.299583</td>\n",
              "      <td>1.000000</td>\n",
              "      <td>0.771038</td>\n",
              "      <td>0.044176</td>\n",
              "    </tr>\n",
              "    <tr>\n",
              "      <th>TNF-A_T3</th>\n",
              "      <td>-0.158937</td>\n",
              "      <td>-0.191560</td>\n",
              "      <td>0.052677</td>\n",
              "      <td>-0.008301</td>\n",
              "      <td>0.109663</td>\n",
              "      <td>0.127343</td>\n",
              "      <td>-0.005315</td>\n",
              "      <td>0.103891</td>\n",
              "      <td>0.122127</td>\n",
              "      <td>0.113018</td>\n",
              "      <td>...</td>\n",
              "      <td>0.012499</td>\n",
              "      <td>-0.120328</td>\n",
              "      <td>0.258113</td>\n",
              "      <td>0.224110</td>\n",
              "      <td>0.141039</td>\n",
              "      <td>0.701654</td>\n",
              "      <td>0.062959</td>\n",
              "      <td>0.771038</td>\n",
              "      <td>1.000000</td>\n",
              "      <td>0.080013</td>\n",
              "    </tr>\n",
              "    <tr>\n",
              "      <th>Cortisol (ng/ml)_T3</th>\n",
              "      <td>-0.045731</td>\n",
              "      <td>0.042810</td>\n",
              "      <td>-0.165992</td>\n",
              "      <td>0.387383</td>\n",
              "      <td>-0.096557</td>\n",
              "      <td>-0.154166</td>\n",
              "      <td>0.087827</td>\n",
              "      <td>0.021288</td>\n",
              "      <td>0.079084</td>\n",
              "      <td>-0.167445</td>\n",
              "      <td>...</td>\n",
              "      <td>0.045807</td>\n",
              "      <td>-0.235505</td>\n",
              "      <td>0.221938</td>\n",
              "      <td>0.028118</td>\n",
              "      <td>0.219510</td>\n",
              "      <td>0.136078</td>\n",
              "      <td>0.000144</td>\n",
              "      <td>0.044176</td>\n",
              "      <td>0.080013</td>\n",
              "      <td>1.000000</td>\n",
              "    </tr>\n",
              "  </tbody>\n",
              "</table>\n",
              "<p>196 rows × 196 columns</p>\n",
              "</div>\n",
              "    <div class=\"colab-df-buttons\">\n",
              "\n",
              "  <div class=\"colab-df-container\">\n",
              "    <button class=\"colab-df-convert\" onclick=\"convertToInteractive('df-27247805-3496-46b0-b578-4bf8bcd94aab')\"\n",
              "            title=\"Convert this dataframe to an interactive table.\"\n",
              "            style=\"display:none;\">\n",
              "\n",
              "  <svg xmlns=\"http://www.w3.org/2000/svg\" height=\"24px\" viewBox=\"0 -960 960 960\">\n",
              "    <path d=\"M120-120v-720h720v720H120Zm60-500h600v-160H180v160Zm220 220h160v-160H400v160Zm0 220h160v-160H400v160ZM180-400h160v-160H180v160Zm440 0h160v-160H620v160ZM180-180h160v-160H180v160Zm440 0h160v-160H620v160Z\"/>\n",
              "  </svg>\n",
              "    </button>\n",
              "\n",
              "  <style>\n",
              "    .colab-df-container {\n",
              "      display:flex;\n",
              "      gap: 12px;\n",
              "    }\n",
              "\n",
              "    .colab-df-convert {\n",
              "      background-color: #E8F0FE;\n",
              "      border: none;\n",
              "      border-radius: 50%;\n",
              "      cursor: pointer;\n",
              "      display: none;\n",
              "      fill: #1967D2;\n",
              "      height: 32px;\n",
              "      padding: 0 0 0 0;\n",
              "      width: 32px;\n",
              "    }\n",
              "\n",
              "    .colab-df-convert:hover {\n",
              "      background-color: #E2EBFA;\n",
              "      box-shadow: 0px 1px 2px rgba(60, 64, 67, 0.3), 0px 1px 3px 1px rgba(60, 64, 67, 0.15);\n",
              "      fill: #174EA6;\n",
              "    }\n",
              "\n",
              "    .colab-df-buttons div {\n",
              "      margin-bottom: 4px;\n",
              "    }\n",
              "\n",
              "    [theme=dark] .colab-df-convert {\n",
              "      background-color: #3B4455;\n",
              "      fill: #D2E3FC;\n",
              "    }\n",
              "\n",
              "    [theme=dark] .colab-df-convert:hover {\n",
              "      background-color: #434B5C;\n",
              "      box-shadow: 0px 1px 3px 1px rgba(0, 0, 0, 0.15);\n",
              "      filter: drop-shadow(0px 1px 2px rgba(0, 0, 0, 0.3));\n",
              "      fill: #FFFFFF;\n",
              "    }\n",
              "  </style>\n",
              "\n",
              "    <script>\n",
              "      const buttonEl =\n",
              "        document.querySelector('#df-27247805-3496-46b0-b578-4bf8bcd94aab button.colab-df-convert');\n",
              "      buttonEl.style.display =\n",
              "        google.colab.kernel.accessAllowed ? 'block' : 'none';\n",
              "\n",
              "      async function convertToInteractive(key) {\n",
              "        const element = document.querySelector('#df-27247805-3496-46b0-b578-4bf8bcd94aab');\n",
              "        const dataTable =\n",
              "          await google.colab.kernel.invokeFunction('convertToInteractive',\n",
              "                                                    [key], {});\n",
              "        if (!dataTable) return;\n",
              "\n",
              "        const docLinkHtml = 'Like what you see? Visit the ' +\n",
              "          '<a target=\"_blank\" href=https://colab.research.google.com/notebooks/data_table.ipynb>data table notebook</a>'\n",
              "          + ' to learn more about interactive tables.';\n",
              "        element.innerHTML = '';\n",
              "        dataTable['output_type'] = 'display_data';\n",
              "        await google.colab.output.renderOutput(dataTable, element);\n",
              "        const docLink = document.createElement('div');\n",
              "        docLink.innerHTML = docLinkHtml;\n",
              "        element.appendChild(docLink);\n",
              "      }\n",
              "    </script>\n",
              "  </div>\n",
              "\n",
              "\n",
              "<div id=\"df-c202ea46-4c8d-4f59-8507-5b055be8991e\">\n",
              "  <button class=\"colab-df-quickchart\" onclick=\"quickchart('df-c202ea46-4c8d-4f59-8507-5b055be8991e')\"\n",
              "            title=\"Suggest charts\"\n",
              "            style=\"display:none;\">\n",
              "\n",
              "<svg xmlns=\"http://www.w3.org/2000/svg\" height=\"24px\"viewBox=\"0 0 24 24\"\n",
              "     width=\"24px\">\n",
              "    <g>\n",
              "        <path d=\"M19 3H5c-1.1 0-2 .9-2 2v14c0 1.1.9 2 2 2h14c1.1 0 2-.9 2-2V5c0-1.1-.9-2-2-2zM9 17H7v-7h2v7zm4 0h-2V7h2v10zm4 0h-2v-4h2v4z\"/>\n",
              "    </g>\n",
              "</svg>\n",
              "  </button>\n",
              "\n",
              "<style>\n",
              "  .colab-df-quickchart {\n",
              "      --bg-color: #E8F0FE;\n",
              "      --fill-color: #1967D2;\n",
              "      --hover-bg-color: #E2EBFA;\n",
              "      --hover-fill-color: #174EA6;\n",
              "      --disabled-fill-color: #AAA;\n",
              "      --disabled-bg-color: #DDD;\n",
              "  }\n",
              "\n",
              "  [theme=dark] .colab-df-quickchart {\n",
              "      --bg-color: #3B4455;\n",
              "      --fill-color: #D2E3FC;\n",
              "      --hover-bg-color: #434B5C;\n",
              "      --hover-fill-color: #FFFFFF;\n",
              "      --disabled-bg-color: #3B4455;\n",
              "      --disabled-fill-color: #666;\n",
              "  }\n",
              "\n",
              "  .colab-df-quickchart {\n",
              "    background-color: var(--bg-color);\n",
              "    border: none;\n",
              "    border-radius: 50%;\n",
              "    cursor: pointer;\n",
              "    display: none;\n",
              "    fill: var(--fill-color);\n",
              "    height: 32px;\n",
              "    padding: 0;\n",
              "    width: 32px;\n",
              "  }\n",
              "\n",
              "  .colab-df-quickchart:hover {\n",
              "    background-color: var(--hover-bg-color);\n",
              "    box-shadow: 0 1px 2px rgba(60, 64, 67, 0.3), 0 1px 3px 1px rgba(60, 64, 67, 0.15);\n",
              "    fill: var(--button-hover-fill-color);\n",
              "  }\n",
              "\n",
              "  .colab-df-quickchart-complete:disabled,\n",
              "  .colab-df-quickchart-complete:disabled:hover {\n",
              "    background-color: var(--disabled-bg-color);\n",
              "    fill: var(--disabled-fill-color);\n",
              "    box-shadow: none;\n",
              "  }\n",
              "\n",
              "  .colab-df-spinner {\n",
              "    border: 2px solid var(--fill-color);\n",
              "    border-color: transparent;\n",
              "    border-bottom-color: var(--fill-color);\n",
              "    animation:\n",
              "      spin 1s steps(1) infinite;\n",
              "  }\n",
              "\n",
              "  @keyframes spin {\n",
              "    0% {\n",
              "      border-color: transparent;\n",
              "      border-bottom-color: var(--fill-color);\n",
              "      border-left-color: var(--fill-color);\n",
              "    }\n",
              "    20% {\n",
              "      border-color: transparent;\n",
              "      border-left-color: var(--fill-color);\n",
              "      border-top-color: var(--fill-color);\n",
              "    }\n",
              "    30% {\n",
              "      border-color: transparent;\n",
              "      border-left-color: var(--fill-color);\n",
              "      border-top-color: var(--fill-color);\n",
              "      border-right-color: var(--fill-color);\n",
              "    }\n",
              "    40% {\n",
              "      border-color: transparent;\n",
              "      border-right-color: var(--fill-color);\n",
              "      border-top-color: var(--fill-color);\n",
              "    }\n",
              "    60% {\n",
              "      border-color: transparent;\n",
              "      border-right-color: var(--fill-color);\n",
              "    }\n",
              "    80% {\n",
              "      border-color: transparent;\n",
              "      border-right-color: var(--fill-color);\n",
              "      border-bottom-color: var(--fill-color);\n",
              "    }\n",
              "    90% {\n",
              "      border-color: transparent;\n",
              "      border-bottom-color: var(--fill-color);\n",
              "    }\n",
              "  }\n",
              "</style>\n",
              "\n",
              "  <script>\n",
              "    async function quickchart(key) {\n",
              "      const quickchartButtonEl =\n",
              "        document.querySelector('#' + key + ' button');\n",
              "      quickchartButtonEl.disabled = true;  // To prevent multiple clicks.\n",
              "      quickchartButtonEl.classList.add('colab-df-spinner');\n",
              "      try {\n",
              "        const charts = await google.colab.kernel.invokeFunction(\n",
              "            'suggestCharts', [key], {});\n",
              "      } catch (error) {\n",
              "        console.error('Error during call to suggestCharts:', error);\n",
              "      }\n",
              "      quickchartButtonEl.classList.remove('colab-df-spinner');\n",
              "      quickchartButtonEl.classList.add('colab-df-quickchart-complete');\n",
              "    }\n",
              "    (() => {\n",
              "      let quickchartButtonEl =\n",
              "        document.querySelector('#df-c202ea46-4c8d-4f59-8507-5b055be8991e button');\n",
              "      quickchartButtonEl.style.display =\n",
              "        google.colab.kernel.accessAllowed ? 'block' : 'none';\n",
              "    })();\n",
              "  </script>\n",
              "</div>\n",
              "    </div>\n",
              "  </div>\n"
            ]
          },
          "metadata": {},
          "execution_count": 13
        }
      ]
    },
    {
      "cell_type": "code",
      "source": [
        "dataset.fillna(0,inplace = True)"
      ],
      "metadata": {
        "id": "zGqJanND_LlZ"
      },
      "execution_count": null,
      "outputs": []
    },
    {
      "cell_type": "code",
      "source": [
        "dataset.isnull().sum()"
      ],
      "metadata": {
        "colab": {
          "base_uri": "https://localhost:8080/"
        },
        "id": "VTG3ctN0_amd",
        "outputId": "95a9c5e8-1262-49d4-8028-f73e262133e5"
      },
      "execution_count": null,
      "outputs": [
        {
          "output_type": "execute_result",
          "data": {
            "text/plain": [
              "ISS                    0\n",
              "NISS                   0\n",
              "PS14                   0\n",
              "Age                    0\n",
              "WBC [109/L]_T1         0\n",
              "                      ..\n",
              "G-CSF_T3               0\n",
              "MCP-1_T3               0\n",
              "TNF-A_T3               0\n",
              "Cortisol (ng/ml)_T3    0\n",
              "Label                  0\n",
              "Length: 197, dtype: int64"
            ]
          },
          "metadata": {},
          "execution_count": 23
        }
      ]
    },
    {
      "cell_type": "code",
      "source": [
        "dataset.interpolate(method = \"linear\", limit = 5, inplace = True)"
      ],
      "metadata": {
        "id": "HP8uQmRO_fc-"
      },
      "execution_count": null,
      "outputs": []
    },
    {
      "cell_type": "code",
      "source": [
        "sns.heatmap(dataset.isnull(), xticklabels = False, cbar = False, cmap = 'Blues')"
      ],
      "metadata": {
        "colab": {
          "base_uri": "https://localhost:8080/",
          "height": 431
        },
        "id": "QPVgMLpFABc1",
        "outputId": "46071276-ce2e-44fa-9545-ec34a9ea3cc1"
      },
      "execution_count": null,
      "outputs": [
        {
          "output_type": "execute_result",
          "data": {
            "text/plain": [
              "<Axes: >"
            ]
          },
          "metadata": {},
          "execution_count": 16
        },
        {
          "output_type": "display_data",
          "data": {
            "text/plain": [
              "<Figure size 640x480 with 1 Axes>"
            ],
            "image/png": "[encoded data removed]"
          },
          "metadata": {}
        }
      ]
    },
    {
      "cell_type": "code",
      "source": [],
      "metadata": {
        "id": "0jjXkF3GAExk"
      },
      "execution_count": null,
      "outputs": []
    },
    {
      "cell_type": "markdown",
      "source": [
        "#Training of the First Model\n"
      ],
      "metadata": {
        "id": "2g0aWndTAN4I"
      }
    },
    {
      "cell_type": "code",
      "source": [
        "# Separate the training data from the target data\n",
        "X = dataset.iloc[:, 0:-1]\n",
        "y = dataset.loc[:, 'Label']\n"
      ],
      "metadata": {
        "id": "f7t1qYi1ASQb"
      },
      "execution_count": null,
      "outputs": []
    },
    {
      "cell_type": "code",
      "source": [
        "from sklearn.model_selection import train_test_split\n",
        "from sklearn.linear_model import LogisticRegression\n",
        "\n",
        "# Split the dataset into training and testing subsets\n",
        "X_train, X_test, y_train, y_test = train_test_split(X,y, test_size = 0.4 ,random_state= 0)\n",
        "\n",
        "# Training the logistic regression model\n",
        "logreg = LogisticRegression(max_iter = 2500)\n",
        "logreg.fit(X_train, y_train)"
      ],
      "metadata": {
        "colab": {
          "base_uri": "https://localhost:8080/",
          "height": 75
        },
        "id": "D1VJNVVxAazk",
        "outputId": "b9f14265-b4b2-45a8-ee62-7aa498279d4c"
      },
      "execution_count": null,
      "outputs": [
        {
          "output_type": "execute_result",
          "data": {
            "text/plain": [
              "LogisticRegression(max_iter=2500)"
            ],
            "text/html": [
              "<style>#sk-container-id-1 {color: black;}#sk-container-id-1 pre{padding: 0;}#sk-container-id-1 div.sk-toggleable {background-color: white;}#sk-container-id-1 label.sk-toggleable__label {cursor: pointer;display: block;width: 100%;margin-bottom: 0;padding: 0.3em;box-sizing: border-box;text-align: center;}#sk-container-id-1 label.sk-toggleable__label-arrow:before {content: \"▸\";float: left;margin-right: 0.25em;color: #696969;}#sk-container-id-1 label.sk-toggleable__label-arrow:hover:before {color: black;}#sk-container-id-1 div.sk-estimator:hover label.sk-toggleable__label-arrow:before {color: black;}#sk-container-id-1 div.sk-toggleable__content {max-height: 0;max-width: 0;overflow: hidden;text-align: left;background-color: #f0f8ff;}#sk-container-id-1 div.sk-toggleable__content pre {margin: 0.2em;color: black;border-radius: 0.25em;background-color: #f0f8ff;}#sk-container-id-1 input.sk-toggleable__control:checked~div.sk-toggleable__content {max-height: 200px;max-width: 100%;overflow: auto;}#sk-container-id-1 input.sk-toggleable__control:checked~label.sk-toggleable__label-arrow:before {content: \"▾\";}#sk-container-id-1 div.sk-estimator input.sk-toggleable__control:checked~label.sk-toggleable__label {background-color: #d4ebff;}#sk-container-id-1 div.sk-label input.sk-toggleable__control:checked~label.sk-toggleable__label {background-color: #d4ebff;}#sk-container-id-1 input.sk-hidden--visually {border: 0;clip: rect(1px 1px 1px 1px);clip: rect(1px, 1px, 1px, 1px);height: 1px;margin: -1px;overflow: hidden;padding: 0;position: absolute;width: 1px;}#sk-container-id-1 div.sk-estimator {font-family: monospace;background-color: #f0f8ff;border: 1px dotted black;border-radius: 0.25em;box-sizing: border-box;margin-bottom: 0.5em;}#sk-container-id-1 div.sk-estimator:hover {background-color: #d4ebff;}#sk-container-id-1 div.sk-parallel-item::after {content: \"\";width: 100%;border-bottom: 1px solid gray;flex-grow: 1;}#sk-container-id-1 div.sk-label:hover label.sk-toggleable__label {background-color: #d4ebff;}#sk-container-id-1 div.sk-serial::before {content: \"\";position: absolute;border-left: 1px solid gray;box-sizing: border-box;top: 0;bottom: 0;left: 50%;z-index: 0;}#sk-container-id-1 div.sk-serial {display: flex;flex-direction: column;align-items: center;background-color: white;padding-right: 0.2em;padding-left: 0.2em;position: relative;}#sk-container-id-1 div.sk-item {position: relative;z-index: 1;}#sk-container-id-1 div.sk-parallel {display: flex;align-items: stretch;justify-content: center;background-color: white;position: relative;}#sk-container-id-1 div.sk-item::before, #sk-container-id-1 div.sk-parallel-item::before {content: \"\";position: absolute;border-left: 1px solid gray;box-sizing: border-box;top: 0;bottom: 0;left: 50%;z-index: -1;}#sk-container-id-1 div.sk-parallel-item {display: flex;flex-direction: column;z-index: 1;position: relative;background-color: white;}#sk-container-id-1 div.sk-parallel-item:first-child::after {align-self: flex-end;width: 50%;}#sk-container-id-1 div.sk-parallel-item:last-child::after {align-self: flex-start;width: 50%;}#sk-container-id-1 div.sk-parallel-item:only-child::after {width: 0;}#sk-container-id-1 div.sk-dashed-wrapped {border: 1px dashed gray;margin: 0 0.4em 0.5em 0.4em;box-sizing: border-box;padding-bottom: 0.4em;background-color: white;}#sk-container-id-1 div.sk-label label {font-family: monospace;font-weight: bold;display: inline-block;line-height: 1.2em;}#sk-container-id-1 div.sk-label-container {text-align: center;}#sk-container-id-1 div.sk-container {/* jupyter's `normalize.less` sets `[hidden] { display: none; }` but bootstrap.min.css set `[hidden] { display: none !important; }` so we also need the `!important` here to be able to override the default hidden behavior on the sphinx rendered scikit-learn.org. See: https://github.com/scikit-learn/scikit-learn/issues/21755 */display: inline-block !important;position: relative;}#sk-container-id-1 div.sk-text-repr-fallback {display: none;}</style><div id=\"sk-container-id-1\" class=\"sk-top-container\"><div class=\"sk-text-repr-fallback\"><pre>LogisticRegression(max_iter=2500)</pre><b>In a Jupyter environment, please rerun this cell to show the HTML representation or trust the notebook. <br />On GitHub, the HTML representation is unable to render, please try loading this page with nbviewer.org.</b></div><div class=\"sk-container\" hidden><div class=\"sk-item\"><div class=\"sk-estimator sk-toggleable\"><input class=\"sk-toggleable__control sk-hidden--visually\" id=\"sk-estimator-id-1\" type=\"checkbox\" checked><label for=\"sk-estimator-id-1\" class=\"sk-toggleable__label sk-toggleable__label-arrow\">LogisticRegression</label><div class=\"sk-toggleable__content\"><pre>LogisticRegression(max_iter=2500)</pre></div></div></div></div></div>"
            ]
          },
          "metadata": {},
          "execution_count": 18
        }
      ]
    },
    {
      "cell_type": "code",
      "source": [],
      "metadata": {
        "id": "UMoRjWtGAj5R"
      },
      "execution_count": null,
      "outputs": []
    },
    {
      "cell_type": "markdown",
      "source": [
        "#Done with the Training part"
      ],
      "metadata": {
        "id": "0Lz5VpXuApsH"
      }
    },
    {
      "cell_type": "code",
      "source": [
        "from sklearn.metrics import accuracy_score\n"
      ],
      "metadata": {
        "id": "gbm2o2J2BFim"
      },
      "execution_count": null,
      "outputs": []
    },
    {
      "cell_type": "code",
      "source": [
        "y_pred = logreg.predict(X_test)\n",
        "print(\"Test accuracy:\", np.round(accuracy_score(y_test, y_pred), 2))\n"
      ],
      "metadata": {
        "colab": {
          "base_uri": "https://localhost:8080/"
        },
        "id": "PumJiXgCBp-e",
        "outputId": "1b862cfc-eec6-42da-d729-12f23bcbe235"
      },
      "execution_count": null,
      "outputs": [
        {
          "output_type": "stream",
          "name": "stdout",
          "text": [
            "Test accuracy: 0.64\n"
          ]
        }
      ]
    },
    {
      "cell_type": "markdown",
      "source": [
        "A baseline accuracy of 64% was achieved, let's see if that score can be improved upon by using other methods."
      ],
      "metadata": {
        "id": "JIgUL_eeD4B4"
      }
    },
    {
      "cell_type": "markdown",
      "source": [
        "We'll use Random forest"
      ],
      "metadata": {
        "id": "ABuWtuvzFi_F"
      }
    },
    {
      "cell_type": "code",
      "source": [
        "from sklearn.ensemble import RandomForestClassifier"
      ],
      "metadata": {
        "id": "Wk4gfvygD46T"
      },
      "execution_count": null,
      "outputs": []
    },
    {
      "cell_type": "code",
      "source": [
        "rfc=RandomForestClassifier(random_state=42)"
      ],
      "metadata": {
        "id": "Y4A4PTNfFq5K"
      },
      "execution_count": null,
      "outputs": []
    },
    {
      "cell_type": "code",
      "source": [
        "param_grid = {\n",
        "    'n_estimators': [100,125,150,175,200,250,300,350,400,450,500],\n",
        "    'max_features': ['auto', 'sqrt', 'log2'],\n",
        "    'max_depth' : [4,5,6,7,8],\n",
        "    'criterion' :['gini', 'entropy']\n",
        "}"
      ],
      "metadata": {
        "id": "qBIZn4s-Ft1S"
      },
      "execution_count": null,
      "outputs": []
    },
    {
      "cell_type": "code",
      "source": [
        "from sklearn.model_selection import GridSearchCV\n"
      ],
      "metadata": {
        "id": "TX0bHvSMFwrI"
      },
      "execution_count": null,
      "outputs": []
    },
    {
      "cell_type": "code",
      "source": [
        "import warnings\n",
        "warnings.filterwarnings('ignore')\n",
        "\n",
        "CV_rfc = GridSearchCV(estimator=rfc, param_grid=param_grid, cv= 5)\n",
        "CV_rfc.fit(X_train, y_train)"
      ],
      "metadata": {
        "colab": {
          "base_uri": "https://localhost:8080/",
          "height": 118
        },
        "id": "P3mcE7RdGH8v",
        "outputId": "f58a3156-6051-46fe-b1cc-5c019b4faf55"
      },
      "execution_count": null,
      "outputs": [
        {
          "output_type": "execute_result",
          "data": {
            "text/plain": [
              "GridSearchCV(cv=5, estimator=RandomForestClassifier(random_state=42),\n",
              "             param_grid={'criterion': ['gini', 'entropy'],\n",
              "                         'max_depth': [4, 5, 6, 7, 8],\n",
              "                         'max_features': ['auto', 'sqrt', 'log2'],\n",
              "                         'n_estimators': [100, 125, 150, 175, 200, 250, 300,\n",
              "                                          350, 400, 450, 500]})"
            ],
            "text/html": [
              "<style>#sk-container-id-2 {color: black;}#sk-container-id-2 pre{padding: 0;}#sk-container-id-2 div.sk-toggleable {background-color: white;}#sk-container-id-2 label.sk-toggleable__label {cursor: pointer;display: block;width: 100%;margin-bottom: 0;padding: 0.3em;box-sizing: border-box;text-align: center;}#sk-container-id-2 label.sk-toggleable__label-arrow:before {content: \"▸\";float: left;margin-right: 0.25em;color: #696969;}#sk-container-id-2 label.sk-toggleable__label-arrow:hover:before {color: black;}#sk-container-id-2 div.sk-estimator:hover label.sk-toggleable__label-arrow:before {color: black;}#sk-container-id-2 div.sk-toggleable__content {max-height: 0;max-width: 0;overflow: hidden;text-align: left;background-color: #f0f8ff;}#sk-container-id-2 div.sk-toggleable__content pre {margin: 0.2em;color: black;border-radius: 0.25em;background-color: #f0f8ff;}#sk-container-id-2 input.sk-toggleable__control:checked~div.sk-toggleable__content {max-height: 200px;max-width: 100%;overflow: auto;}#sk-container-id-2 input.sk-toggleable__control:checked~label.sk-toggleable__label-arrow:before {content: \"▾\";}#sk-container-id-2 div.sk-estimator input.sk-toggleable__control:checked~label.sk-toggleable__label {background-color: #d4ebff;}#sk-container-id-2 div.sk-label input.sk-toggleable__control:checked~label.sk-toggleable__label {background-color: #d4ebff;}#sk-container-id-2 input.sk-hidden--visually {border: 0;clip: rect(1px 1px 1px 1px);clip: rect(1px, 1px, 1px, 1px);height: 1px;margin: -1px;overflow: hidden;padding: 0;position: absolute;width: 1px;}#sk-container-id-2 div.sk-estimator {font-family: monospace;background-color: #f0f8ff;border: 1px dotted black;border-radius: 0.25em;box-sizing: border-box;margin-bottom: 0.5em;}#sk-container-id-2 div.sk-estimator:hover {background-color: #d4ebff;}#sk-container-id-2 div.sk-parallel-item::after {content: \"\";width: 100%;border-bottom: 1px solid gray;flex-grow: 1;}#sk-container-id-2 div.sk-label:hover label.sk-toggleable__label {background-color: #d4ebff;}#sk-container-id-2 div.sk-serial::before {content: \"\";position: absolute;border-left: 1px solid gray;box-sizing: border-box;top: 0;bottom: 0;left: 50%;z-index: 0;}#sk-container-id-2 div.sk-serial {display: flex;flex-direction: column;align-items: center;background-color: white;padding-right: 0.2em;padding-left: 0.2em;position: relative;}#sk-container-id-2 div.sk-item {position: relative;z-index: 1;}#sk-container-id-2 div.sk-parallel {display: flex;align-items: stretch;justify-content: center;background-color: white;position: relative;}#sk-container-id-2 div.sk-item::before, #sk-container-id-2 div.sk-parallel-item::before {content: \"\";position: absolute;border-left: 1px solid gray;box-sizing: border-box;top: 0;bottom: 0;left: 50%;z-index: -1;}#sk-container-id-2 div.sk-parallel-item {display: flex;flex-direction: column;z-index: 1;position: relative;background-color: white;}#sk-container-id-2 div.sk-parallel-item:first-child::after {align-self: flex-end;width: 50%;}#sk-container-id-2 div.sk-parallel-item:last-child::after {align-self: flex-start;width: 50%;}#sk-container-id-2 div.sk-parallel-item:only-child::after {width: 0;}#sk-container-id-2 div.sk-dashed-wrapped {border: 1px dashed gray;margin: 0 0.4em 0.5em 0.4em;box-sizing: border-box;padding-bottom: 0.4em;background-color: white;}#sk-container-id-2 div.sk-label label {font-family: monospace;font-weight: bold;display: inline-block;line-height: 1.2em;}#sk-container-id-2 div.sk-label-container {text-align: center;}#sk-container-id-2 div.sk-container {/* jupyter's `normalize.less` sets `[hidden] { display: none; }` but bootstrap.min.css set `[hidden] { display: none !important; }` so we also need the `!important` here to be able to override the default hidden behavior on the sphinx rendered scikit-learn.org. See: https://github.com/scikit-learn/scikit-learn/issues/21755 */display: inline-block !important;position: relative;}#sk-container-id-2 div.sk-text-repr-fallback {display: none;}</style><div id=\"sk-container-id-2\" class=\"sk-top-container\"><div class=\"sk-text-repr-fallback\"><pre>GridSearchCV(cv=5, estimator=RandomForestClassifier(random_state=42),\n",
              "             param_grid={&#x27;criterion&#x27;: [&#x27;gini&#x27;, &#x27;entropy&#x27;],\n",
              "                         &#x27;max_depth&#x27;: [4, 5, 6, 7, 8],\n",
              "                         &#x27;max_features&#x27;: [&#x27;auto&#x27;, &#x27;sqrt&#x27;, &#x27;log2&#x27;],\n",
              "                         &#x27;n_estimators&#x27;: [100, 125, 150, 175, 200, 250, 300,\n",
              "                                          350, 400, 450, 500]})</pre><b>In a Jupyter environment, please rerun this cell to show the HTML representation or trust the notebook. <br />On GitHub, the HTML representation is unable to render, please try loading this page with nbviewer.org.</b></div><div class=\"sk-container\" hidden><div class=\"sk-item sk-dashed-wrapped\"><div class=\"sk-label-container\"><div class=\"sk-label sk-toggleable\"><input class=\"sk-toggleable__control sk-hidden--visually\" id=\"sk-estimator-id-2\" type=\"checkbox\" ><label for=\"sk-estimator-id-2\" class=\"sk-toggleable__label sk-toggleable__label-arrow\">GridSearchCV</label><div class=\"sk-toggleable__content\"><pre>GridSearchCV(cv=5, estimator=RandomForestClassifier(random_state=42),\n",
              "             param_grid={&#x27;criterion&#x27;: [&#x27;gini&#x27;, &#x27;entropy&#x27;],\n",
              "                         &#x27;max_depth&#x27;: [4, 5, 6, 7, 8],\n",
              "                         &#x27;max_features&#x27;: [&#x27;auto&#x27;, &#x27;sqrt&#x27;, &#x27;log2&#x27;],\n",
              "                         &#x27;n_estimators&#x27;: [100, 125, 150, 175, 200, 250, 300,\n",
              "                                          350, 400, 450, 500]})</pre></div></div></div><div class=\"sk-parallel\"><div class=\"sk-parallel-item\"><div class=\"sk-item\"><div class=\"sk-label-container\"><div class=\"sk-label sk-toggleable\"><input class=\"sk-toggleable__control sk-hidden--visually\" id=\"sk-estimator-id-3\" type=\"checkbox\" ><label for=\"sk-estimator-id-3\" class=\"sk-toggleable__label sk-toggleable__label-arrow\">estimator: RandomForestClassifier</label><div class=\"sk-toggleable__content\"><pre>RandomForestClassifier(random_state=42)</pre></div></div></div><div class=\"sk-serial\"><div class=\"sk-item\"><div class=\"sk-estimator sk-toggleable\"><input class=\"sk-toggleable__control sk-hidden--visually\" id=\"sk-estimator-id-4\" type=\"checkbox\" ><label for=\"sk-estimator-id-4\" class=\"sk-toggleable__label sk-toggleable__label-arrow\">RandomForestClassifier</label><div class=\"sk-toggleable__content\"><pre>RandomForestClassifier(random_state=42)</pre></div></div></div></div></div></div></div></div></div></div>"
            ]
          },
          "metadata": {},
          "execution_count": 37
        }
      ]
    },
    {
      "cell_type": "code",
      "source": [
        "CV_rfc.best_params_"
      ],
      "metadata": {
        "colab": {
          "base_uri": "https://localhost:8080/"
        },
        "id": "p_IJ1481Ik71",
        "outputId": "495bb250-706c-4056-c7b7-a7f44f568124"
      },
      "execution_count": null,
      "outputs": [
        {
          "output_type": "execute_result",
          "data": {
            "text/plain": [
              "{'criterion': 'gini',\n",
              " 'max_depth': 4,\n",
              " 'max_features': 'sqrt',\n",
              " 'n_estimators': 200}"
            ]
          },
          "metadata": {},
          "execution_count": 38
        }
      ]
    },
    {
      "cell_type": "code",
      "source": [
        "rfc=RandomForestClassifier(criterion = 'entropy',\n",
        " max_depth = 4,\n",
        " max_features = 'log2',\n",
        " n_estimators = 125,\n",
        "random_state=42)"
      ],
      "metadata": {
        "id": "YgbgpVlLLTPf"
      },
      "execution_count": null,
      "outputs": []
    },
    {
      "cell_type": "code",
      "source": [
        "rfc.fit(X_train,y_train)"
      ],
      "metadata": {
        "colab": {
          "base_uri": "https://localhost:8080/",
          "height": 92
        },
        "id": "sWBb6SF-LX0C",
        "outputId": "d1fcfa6c-7e93-4e3a-b515-68d038b7e24f"
      },
      "execution_count": null,
      "outputs": [
        {
          "output_type": "execute_result",
          "data": {
            "text/plain": [
              "RandomForestClassifier(criterion='entropy', max_depth=4, max_features='log2',\n",
              "                       n_estimators=125, random_state=42)"
            ],
            "text/html": [
              "<style>#sk-container-id-3 {color: black;}#sk-container-id-3 pre{padding: 0;}#sk-container-id-3 div.sk-toggleable {background-color: white;}#sk-container-id-3 label.sk-toggleable__label {cursor: pointer;display: block;width: 100%;margin-bottom: 0;padding: 0.3em;box-sizing: border-box;text-align: center;}#sk-container-id-3 label.sk-toggleable__label-arrow:before {content: \"▸\";float: left;margin-right: 0.25em;color: #696969;}#sk-container-id-3 label.sk-toggleable__label-arrow:hover:before {color: black;}#sk-container-id-3 div.sk-estimator:hover label.sk-toggleable__label-arrow:before {color: black;}#sk-container-id-3 div.sk-toggleable__content {max-height: 0;max-width: 0;overflow: hidden;text-align: left;background-color: #f0f8ff;}#sk-container-id-3 div.sk-toggleable__content pre {margin: 0.2em;color: black;border-radius: 0.25em;background-color: #f0f8ff;}#sk-container-id-3 input.sk-toggleable__control:checked~div.sk-toggleable__content {max-height: 200px;max-width: 100%;overflow: auto;}#sk-container-id-3 input.sk-toggleable__control:checked~label.sk-toggleable__label-arrow:before {content: \"▾\";}#sk-container-id-3 div.sk-estimator input.sk-toggleable__control:checked~label.sk-toggleable__label {background-color: #d4ebff;}#sk-container-id-3 div.sk-label input.sk-toggleable__control:checked~label.sk-toggleable__label {background-color: #d4ebff;}#sk-container-id-3 input.sk-hidden--visually {border: 0;clip: rect(1px 1px 1px 1px);clip: rect(1px, 1px, 1px, 1px);height: 1px;margin: -1px;overflow: hidden;padding: 0;position: absolute;width: 1px;}#sk-container-id-3 div.sk-estimator {font-family: monospace;background-color: #f0f8ff;border: 1px dotted black;border-radius: 0.25em;box-sizing: border-box;margin-bottom: 0.5em;}#sk-container-id-3 div.sk-estimator:hover {background-color: #d4ebff;}#sk-container-id-3 div.sk-parallel-item::after {content: \"\";width: 100%;border-bottom: 1px solid gray;flex-grow: 1;}#sk-container-id-3 div.sk-label:hover label.sk-toggleable__label {background-color: #d4ebff;}#sk-container-id-3 div.sk-serial::before {content: \"\";position: absolute;border-left: 1px solid gray;box-sizing: border-box;top: 0;bottom: 0;left: 50%;z-index: 0;}#sk-container-id-3 div.sk-serial {display: flex;flex-direction: column;align-items: center;background-color: white;padding-right: 0.2em;padding-left: 0.2em;position: relative;}#sk-container-id-3 div.sk-item {position: relative;z-index: 1;}#sk-container-id-3 div.sk-parallel {display: flex;align-items: stretch;justify-content: center;background-color: white;position: relative;}#sk-container-id-3 div.sk-item::before, #sk-container-id-3 div.sk-parallel-item::before {content: \"\";position: absolute;border-left: 1px solid gray;box-sizing: border-box;top: 0;bottom: 0;left: 50%;z-index: -1;}#sk-container-id-3 div.sk-parallel-item {display: flex;flex-direction: column;z-index: 1;position: relative;background-color: white;}#sk-container-id-3 div.sk-parallel-item:first-child::after {align-self: flex-end;width: 50%;}#sk-container-id-3 div.sk-parallel-item:last-child::after {align-self: flex-start;width: 50%;}#sk-container-id-3 div.sk-parallel-item:only-child::after {width: 0;}#sk-container-id-3 div.sk-dashed-wrapped {border: 1px dashed gray;margin: 0 0.4em 0.5em 0.4em;box-sizing: border-box;padding-bottom: 0.4em;background-color: white;}#sk-container-id-3 div.sk-label label {font-family: monospace;font-weight: bold;display: inline-block;line-height: 1.2em;}#sk-container-id-3 div.sk-label-container {text-align: center;}#sk-container-id-3 div.sk-container {/* jupyter's `normalize.less` sets `[hidden] { display: none; }` but bootstrap.min.css set `[hidden] { display: none !important; }` so we also need the `!important` here to be able to override the default hidden behavior on the sphinx rendered scikit-learn.org. See: https://github.com/scikit-learn/scikit-learn/issues/21755 */display: inline-block !important;position: relative;}#sk-container-id-3 div.sk-text-repr-fallback {display: none;}</style><div id=\"sk-container-id-3\" class=\"sk-top-container\"><div class=\"sk-text-repr-fallback\"><pre>RandomForestClassifier(criterion=&#x27;entropy&#x27;, max_depth=4, max_features=&#x27;log2&#x27;,\n",
              "                       n_estimators=125, random_state=42)</pre><b>In a Jupyter environment, please rerun this cell to show the HTML representation or trust the notebook. <br />On GitHub, the HTML representation is unable to render, please try loading this page with nbviewer.org.</b></div><div class=\"sk-container\" hidden><div class=\"sk-item\"><div class=\"sk-estimator sk-toggleable\"><input class=\"sk-toggleable__control sk-hidden--visually\" id=\"sk-estimator-id-5\" type=\"checkbox\" checked><label for=\"sk-estimator-id-5\" class=\"sk-toggleable__label sk-toggleable__label-arrow\">RandomForestClassifier</label><div class=\"sk-toggleable__content\"><pre>RandomForestClassifier(criterion=&#x27;entropy&#x27;, max_depth=4, max_features=&#x27;log2&#x27;,\n",
              "                       n_estimators=125, random_state=42)</pre></div></div></div></div></div>"
            ]
          },
          "metadata": {},
          "execution_count": 40
        }
      ]
    },
    {
      "cell_type": "code",
      "source": [
        "pred_f = rfc.predict(X_test)"
      ],
      "metadata": {
        "id": "SKj6LYOBLedU"
      },
      "execution_count": null,
      "outputs": []
    },
    {
      "cell_type": "code",
      "source": [
        "from sklearn.metrics import classification_report"
      ],
      "metadata": {
        "id": "r5SSDnq0MzqG"
      },
      "execution_count": null,
      "outputs": []
    },
    {
      "cell_type": "code",
      "source": [
        "print(classification_report(y_test,pred_f))"
      ],
      "metadata": {
        "colab": {
          "base_uri": "https://localhost:8080/"
        },
        "id": "RmFYGlYrM3k5",
        "outputId": "76bd1637-d5e1-47a8-ac9d-11cd93fd4bfe"
      },
      "execution_count": null,
      "outputs": [
        {
          "output_type": "stream",
          "name": "stdout",
          "text": [
            "              precision    recall  f1-score   support\n",
            "\n",
            "           N       1.00      0.50      0.67        10\n",
            "           Y       0.75      1.00      0.86        15\n",
            "\n",
            "    accuracy                           0.80        25\n",
            "   macro avg       0.88      0.75      0.76        25\n",
            "weighted avg       0.85      0.80      0.78        25\n",
            "\n"
          ]
        }
      ]
    }
  ],
  "metadata": {
    "colab": {
      "provenance": []
    },
    "kernelspec": {
      "display_name": "Python 3",
      "name": "python3"
    },
    "language_info": {
      "name": "python"
    }
  },
  "nbformat": 4,
  "nbformat_minor": 0
}